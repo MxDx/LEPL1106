{
  "cells": [
    {
      "cell_type": "markdown",
      "metadata": {
        "id": "OmV6hvuwL4i8"
      },
      "source": [
        "# LEPL1106, Devoir 7 : Auto-tune\n",
        "\n",
        "## Introduction\n",
        "\n",
        "\n",
        "Dans ce devoir, nous allons nous intéresser à l'utilisation de la transformée de Fourier pour une application audionumérique. A cette fin, une propriété particulièrement utile est la propriété de **dilatation** :\n",
        "\n",
        "$$\\mathcal{F}\\{f(t/a)\\} = |a|F(aj\\omega) $$ \n",
        "où $a\\neq 0$ et $F(j\\omega) = \\mathcal{F} \\{f(t)\\}$. Celle-ci permet d'appliquer une transformation linéaire sur le contenu spectral d'un signal, menant alors à un étirement ou une compression dans le domaine temporel. En pratique, cette propriété est largement utilisée par les logiciels correcteurs de voix. Dans ce devoir, on vous demande de faire une version plus simple de ces logiciels, permettant de corriger la hauteur d'une note musicale dans un enregistrement donné. Cela sera utilisé pour traiter le problème suivant :\n",
        "\n",
        "*Le prochain album du rappeur 20 Cents est presque prêt. Il a cependant encore besoin de vous : un célèbre\tguitariste Néo-Zélandais a enregistré un solo hyper-important pour une des chansons mais il a malheureusement joué une fausse note et ne s'est pas rendu compte avant de partir chez lui. Heureusement, l'enregistrement a été fait à une fréquence très élevée, ce qui nous permet de corriger la hauteur d'une note avec des opérations numériques. Pouvez-vous l'aider ?*\n",
        "\n",
        "\n",
        "## Le sous-échantillonnage\n",
        "\n",
        "\n",
        "La méthode numérique à laquelle nous nous intéressons est basique :\n",
        "il s'agit de *sous-échantillonner* un signal discret à bande limitée en\n",
        "conservant uniquement un nombre restreint de ses échantillons.\n",
        "\n",
        "Soit $(x[n])$ le signal discret résultant de l'échantillonnage d'un\n",
        "signal analogique $(x(t))$ (*e.g.*, l'enregistrement joué par 20cent et le guitariste) à une fréquence $(f_e)$,\n",
        "\n",
        "$$x[n] = x(n/f_e).$$\n",
        "\n",
        "On suppose également que le signal $(x[n])$ a un support fini de\n",
        "taille $(N)$ (plus précisément, on considère $(x[n] = 0)$ pour $( n \\notin \\{0,\\dots,N-1\\}) )$, par exemple parce que $(x(t))$ est\n",
        "également à support fini. Le signal discret sous-échantillonné par un\n",
        "facteur $(M)$ est donné par\n",
        "\n",
        "$$x_{\\text{se}}[n] = x[Mn]  =x\\left(\\frac{nM}{f_e}\\right),$$\n",
        "\n",
        "ce qui est **équivalent au signal discret résultant de l'échantillonnage\n",
        "de $(x(t))$ à une fréquence plus faible, $(f_e/M)$ **. Par exemple,\n",
        "si $(M=2)$ , cela signifie qu'on ne gardera qu'un échantillon sur 2 de\n",
        "$(x[n])$ . Le stockage du signal $(x_{\\text{se}}[n])$ résultant\n",
        "nécessitera alors deux fois moins de place.\n",
        "\n",
        "## Correction de hauteur\n",
        "\n",
        "\n",
        "La méthode de correction de hauteur consiste à couper un morceau $x_n[n]$ de l'enregistrement qui contient la fausse note et à le sous-échantillonner avec un facteur $M_1$. Après, le reste du signal $x_r[n]$ est sous-échantillonné avec un facteur $M_2$. Finalement, les deux morceaux sont mis ensemble et l'enregistrement est reproduit avec une seule fréquence, par exemple, $f_e'= f_e/M_2$. Cela est équivalent à appliquer une dilatation au morceau $x_n[n]$ avec $a=M_1/M_2$, permettant alors de corriger une note fausse en la renvoyant vers la bonne fréquence. \n",
        "\n",
        "\n",
        "\n",
        "## Objectif\n",
        "\n",
        "\n",
        "On vous demande de créer une fonction Python qui renvoie une période de\n",
        "la DFT $^1$ de $(x_{\\text{se}}[n]$ ) ( $(n$ ) allant de 0 à\n",
        "$(\\lceil{N/M}\\rceil-1$ )) **centrée autour de l'origine** où les\n",
        "fréquences sont exprimées en Hertz [Hz]. La fonction renvoie donc en\n",
        "sortie le signal discret sous-échantillonné, une période de la DFT\n",
        "$(X_{\\text{se}}[k]$ ) (à valeurs possiblement complexes $^2$) ainsi\n",
        "que le vecteur $(f_k $) des fréquences correspondantes.\n",
        "\n",
        "\n",
        "En plus du calcul de la DFT du signal sous-échantillonné, on vous\n",
        "demande d'écrire une seconde fonction `plotFig(X,fx,Y,fy,xlim,name)` qui enregistre une figure affichant les modules de la DFT de deux signaux \\\\(x[n]\\\\) et \\\\(y[n]\\\\))  entre les fréquences définies par `xlmin`, exprimées en Hertz.  \n",
        "\n",
        "\n",
        "\n",
        "## Consignes\n",
        "\n",
        "\n",
        "En partant du template fourni ci-dessous, complétez la fonction\n",
        "`audioCompression(x,fe,M)`. Pour créer, stocker, et opérer sur les\n",
        "signaux, on utilisera le package [NumPy](http://www.numpy.org/) de\n",
        "Python.\n",
        "\n",
        "L'argument `x` est un vecteur (`numpy array`) de longueur $(N)$ et\n",
        "dont les entrées sont des valeurs réelles. Le support du signal `x` est\n",
        "donc $(\\{0,\\dots,N-1\\})$ . L'argument `fe` est un scalaire. Il\n",
        "s'agit d'une fréquence d'échantillonnage exprimée en Hertz. Le signal\n",
        "analogique $(x(t))$ a été échantillonné à une fréquence `fe` pour\n",
        "donner lieu à $(x[n] = x(n/f_e))$ . L'argument `M` est un entier\n",
        "strictement positif. Il représente le facteur de sous-échantillonnage.\n",
        "\n",
        "La fonction doit renvoyer trois vecteurs (`numpy array`) :\n",
        "`xse`, `f` et `Xse` décrits ci-dessous (attention à bien\n",
        "retourner `(xse,f,Xse)`).\n",
        "\n",
        "L'output `xse` est un vecteur (`numpy array`) de longueur\n",
        "$(\\lceil{N/M}\\rceil)$ contenant les valeurs du signal\n",
        "sous-échantillonné. L'output `f` est un vecteur (`numpy array`) de même\n",
        "taille que `xse` contenant les fréquences en Hertz (centrées autour de l'origine, comme pour le devoir 6) où est évalué le\n",
        "spectre de $(x_{\\text{se}}[n])$ . L'output `Xse` est un vecteur\n",
        "(`numpy array`) de la même longueur que `f` contenant les valeurs\n",
        "possiblement complexes du spectre de $(x_{\\text{se}}[n])$ sur une\n",
        "période centrée autour de la fréquence nulle. \n",
        "\n",
        "Complétez également la fonction `plotFig(X,fx,Y,fy,xlim,name)` qui crée et sauvegarde une figure affichant en superposition les modules de `X` et `Y` (les spectres des signaux $(x[n])$ et $(y[n])$ )  entre les fréquences `xlim[0]` et `xlim[1]`, exprimées en \\\\(Hz\\\\) (`xlim` est un tuple contenant 2 `float`s). Les vecteurs  `fx` et `fy` (`numpy array`) contiennent les fréquences en Hertz où sont évalués les\n",
        "spectres de $(x[n])$ et $(y[n])$ ).\n",
        "\n",
        "Pour ce faire, utilisez la librairie\n",
        "[Matplotlib](https://matplotlib.org/index.html). La fonction sauve\n",
        "également la figure au format png avec le nom `name` (la sauvegarde est\n",
        "déjà implémentée pour vous, ne supprimez pas cette ligne !). Faites\n",
        "attention à respecter la convention d'affichage d'un spectre (par\n",
        "exemple, en utilisant `plt.plot`), à annoter convenablement vos axes\n",
        "(labels, unités...), et à donner un titre et (si besoin) une légende à\n",
        "vos figures.\n",
        "\n",
        "Vous devrez également adapter les\n",
        "[docstring](https://realpython.com/documenting-python-code/#documenting-your-python-code-base-using-docstrings)\n",
        "(commentaire au début de votre fonction, qui s'affiche quand on tape\n",
        "`help(nomDeLaFonction)`) de chaque fonction, comme indiqué dans le\n",
        "modèle.\n",
        "\n",
        "## Evaluation\n",
        "\n",
        "\n",
        "Les critères et modalités d'évaluation sont repris ci-dessous. Nous\n",
        "rappelons que la fonction sera corrigée uniquement si elle est validée,\n",
        "c'est-à-dire si elle passe les tests simples :\n",
        "\n",
        "-   Respect consignes (1 point) : remise avant la deadline, description\n",
        "    précise de la fonction et présence de toutes les informations\n",
        "    importantes en commentaire, tentative d'atteindre l'objectif du\n",
        "    devoir.\n",
        "-   Objectif du devoir atteint (6 points) : la fonction soumise remplit\n",
        "    les objectifs du devoir et passe avec succès divers tests.\n",
        "-   Forme des figures (**3** points) : figures lisibles et\n",
        "    compréhensibles qui respectent les consignes. Les éléments suivants\n",
        "    sont en outre présents : titre de la figure, labels des axes et\n",
        "    unités, absence de fautes d'orthographe (majuscules aux noms propres\n",
        "    incluses, *e.g.*, Fourier).\n",
        "\n",
        "## Deadline\n",
        "\n",
        "\n",
        "Le vendredi 1 avril à 20h00. Aucune extension n'est possible, prenez vos\n",
        "dispositions pour soumettre à temps, d'autant plus qu'**il est possible\n",
        "de faire seulement 12 soumissions par heure**.\n",
        "\n",
        "## Précision\n",
        "\n",
        "\n",
        "La remise par deux est autorisée pour peu que\n",
        "\n",
        "-   les deux étudiants soient membres du même groupe de TP ;\n",
        "-   les deux étudiants soient inscrits dans la même team sur la plateforme INGInious.\n",
        "\n",
        "Questions sur le devoir à adresser au forum des Devoir (sur Moodle), à votre tuteur/tutrice, à florian.quatresooz@uclouvain.be ou lucas.egidio@uclouvain.be.\n",
        "\n",
        "<sup>1</sup> Relisez bien le rappel de la séance 6. Si un signal discret original \\\\(y[n]\\\\) est à support fini de taille \\\\(N'\\\\) (i.e., \\\\(y[n] = 0\\\\) pour \\\\(n \\notin \\{0,\\dots,N'-1\\}\\\\)), sa DFT \\\\(Y[k]\\\\) à \\\\(N'\\\\) échantillons correspond exactement aux valeurs de sa DTFT \\\\(Y(e^{i\\Omega})\\\\) aux fréquences \\\\(\\Omega_k = 2\\pi k / N'\\\\) [rad] pour \\\\(k = 0,\\dots,N'-1\\\\).\n",
        "\n",
        "<sup>2</sup> N'oubliez pas de corriger les erreurs d'arrondis comme dans le devoir 4, lorsque le **module** de la DFT est inférieur à \\\\(10^{-9}\\\\)."
      ]
    },
    {
      "cell_type": "markdown",
      "metadata": {
        "id": "ITcS_1Ttf4y4"
      },
      "source": [
        "## Question 1: Fonction audioCompression\n",
        "\n",
        "Définis(sez) et commente(z) la fonction audioCompression:"
      ]
    },
    {
      "cell_type": "code",
      "execution_count": 47,
      "metadata": {
        "id": "TOUfd56Vt2Gc"
      },
      "outputs": [],
      "source": [
        "import numpy as np"
      ]
    },
    {
      "cell_type": "code",
      "execution_count": 48,
      "metadata": {
        "id": "2VN0u5dDfs1T"
      },
      "outputs": [],
      "source": [
        "## LE CONTENU DE CETTE CELLLULE EST A SOUMETTRE SUR INGINIOUS\n",
        "def audioCompression(x,fe,M):\n",
        "    \"\"\"\n",
        "    Fonction de compression d'un signal audio renvoyant le signal sous échantilloné,\n",
        "    le vecteur ou est évalué le spectre et un vecteur des valeurs du spectre. \n",
        "\n",
        "    Args:\n",
        "        x (numpy array) : L'argument x est un vecteur de longueur N et \n",
        "                    dont les entrées sont des valeurs réelles.\n",
        "        fe (Integer): fe est une fréquence d'échantillonnage exprimée en Hertz.\n",
        "        M (Integer): M est strictement positif et il représente le facteur de sous-échantillonnage.\n",
        "\n",
        "    Returns:\n",
        "        (tuple):\n",
        "            xse (numpy array): L'output xse est un vecteur de longueur ⌈N/M⌉ \n",
        "                               contenant les valeurs du signal sous-échantillonné.\n",
        "            f (numpy array): L'output f est un vecteur de même taille que xse \n",
        "                             contenant les fréquences en Hertz (centrées autour de l'origine) \n",
        "                             où est évalué le spectre de xse[n].\n",
        "            Xse (numpy array): L'output Xse est un vecteur de la même longueur que f \n",
        "                               contenant les valeurs possiblement complexes du spectre de xse[n] \n",
        "                               sur une période centrée autour de la fréquence nulle.\n",
        "    \"\"\"\n",
        "    N = np.size(x)  \n",
        "    xse = np.zeros(N//M+1)\n",
        "     \n",
        "    for i in range (N//M+1): \n",
        "        xse[i] = x[i*M]\n",
        "      \n",
        "    Xse = np.fft.fft(xse)\n",
        "    Xse = np.fft.fftshift(Xse)\n",
        "    for i in range(np.size(Xse)) : \n",
        "        if np.abs(Xse[i])<10**(-9):\n",
        "            Xse[i] = 0\n",
        "            \n",
        "    f = np.fft.fftfreq(N//M+1, 1/fe)\n",
        "    f = np.fft.fftshift(f)\n",
        "    return (xse, f, Xse)"
      ]
    },
    {
      "cell_type": "markdown",
      "metadata": {
        "id": "mH6cRUuNf-Ru"
      },
      "source": [
        "## Question 2: Affichage du module des DFTs\n",
        "Définis(sez) et commente(z) une fonction permettant de générer et sauver une figure contenant le module de deux DFTs.\n"
      ]
    },
    {
      "cell_type": "code",
      "execution_count": 49,
      "metadata": {
        "id": "mWXu1UQbgM8P"
      },
      "outputs": [],
      "source": [
        "import matplotlib.pyplot as plt"
      ]
    },
    {
      "cell_type": "code",
      "execution_count": 50,
      "metadata": {
        "id": "zBqPzwHDgXtV"
      },
      "outputs": [],
      "source": [
        "## LE CONTENU DE CETTE CELLLULE EST A SOUMETTRE SUR INGINIOUS\n",
        "def plotFig(X,fx,Y,fy,xlim,name):\n",
        "    \"\"\"\n",
        "    Fonction qui permet de ploter le module de deux DFTs entre \n",
        "    les deux valeurs de xlim\n",
        "\n",
        "    Args:\n",
        "        X (numpy array): X est un spectre de signal \n",
        "        fx (numpy array): fx contient les fréquences où est évalué X\n",
        "        Y (numpy array): Y est un spectre de signal \n",
        "        fy (numpy array): fy contient les fréquences où est évalué Y\n",
        "        xlim (tuple): tuple contenant deux fréquences d'échantillonnage        \n",
        "        name (string): Nom du fichier png enregistré\n",
        "    \"\"\"\n",
        "    # Création de la figure, de taille fixe.\n",
        "    plt.figure(figsize=(6,9))\n",
        "    xlim1, xlim2 = xlim\n",
        "\n",
        "    plt.title(\"Module des DFT\")\n",
        "    plt.ylabel(\"Module de la fréquence\")\n",
        "    plt.xlabel(\"Fréquence entre {} Hz et {} Hz\".format(xlim1, xlim2))\n",
        "    indexFx1 = 0\n",
        "    indexFx2 = 0\n",
        "    for i,val in enumerate(fx):\n",
        "        if int(val) == xlim1:\n",
        "            indexFx1 = i\n",
        "        if int(val) == xlim2:\n",
        "            indexFx2 = i\n",
        "            break\n",
        "\n",
        "    indexFy1 = 0\n",
        "    indexFy2 = 0\n",
        "    for i,val in enumerate(fy):\n",
        "        if int(val) == xlim1:\n",
        "            indexFy1 = i\n",
        "        if int(val) == xlim2:\n",
        "            indexFy2 = i\n",
        "            break\n",
        " \n",
        "    plt.plot(fx[indexFx1:indexFx2],abs(X[indexFx1:indexFx2]),  label=\"X\", color='g')\n",
        "    plt.plot(fy[indexFy1:indexFy2],abs(Y[indexFy1:indexFy2]),  label=\"Y\", color=\"orange\")\n",
        "    plt.grid(linestyle='-')\n",
        "\n",
        "    plt.legend()\n",
        "    # Sauvegarde de la figure avec le bon nom.\n",
        "    # Le second argument rétrécit les marges, par défaut relativement larges.\n",
        "    plt.savefig(name + '.png', bbox_inches='tight')"
      ]
    },
    {
      "cell_type": "markdown",
      "metadata": {
        "id": "3Mxyxb9agkMB"
      },
      "source": [
        "## Tester vos fonctions\n",
        "\n",
        "La cellule de test ci-dessous vous permet de tester vos fonctions. Les valeurs `cut1` et `cut2` définissent les indices du premier et du dernier échantillon de la partie du signal à laquelle nous voulons appliquer la correction. Les entiers `M1` et `M2` ont été choisis de façon que la fausse note ait sa fréquence multiplié par $1/a$ où $a = M_1/M_2\\approx 2^{-1/12}$. Cette valeur est le rapport de fréquences du demi-ton dans une [gamme tempérée](https://fr.wikipedia.org/wiki/Gamme_temp%C3%A9r%C3%A9e#Th%C3%A9orie_arithm%C3%A9tique). \n"
      ]
    },
    {
      "cell_type": "code",
      "execution_count": 51,
      "metadata": {
        "id": "tWk0y6MGt2Ge"
      },
      "outputs": [
        {
          "data": {
            "image/png": "[encoded data removed]",
            "text/plain": [
              "<Figure size 432x648 with 1 Axes>"
            ]
          },
          "metadata": {
            "needs_background": "light"
          },
          "output_type": "display_data"
        }
      ],
      "source": [
        "## CELLULE DE TEST \n",
        "from scipy.io.wavfile import read, write\n",
        "\n",
        "fs, x = read(\"data/solo.wav\")\n",
        "typeL = type(x[0]) #Le type utilisé par votre ordinateur pour les fichiers sons\n",
        "\n",
        "\n",
        "cut1 = 1631190\n",
        "cut2 = 1814200\n",
        "x1 = x[:cut1]\n",
        "x2 = x[cut1:cut2]\n",
        "x3 = x[cut2:]\n",
        "\n",
        "\n",
        "M1 = 17\n",
        "M2 = 18\n",
        "\n",
        " \n",
        "(y1, _, _) = audioCompression(x1, fs, M1) # \n",
        "(y2, _, _) = audioCompression(x2, fs, M2) # Fonction audioCompression\n",
        "(y3, _, _) = audioCompression(x3, fs, M1) # \n",
        "\n",
        "y = np.concatenate((y1,y2,y3))\n",
        "\n",
        " \n",
        "fsy = fs//M1 # nouvelle fréquence d'échantillonnage\n",
        "write(\"solo_corrige.wav\", fsy, y.astype(typeL))\n",
        "\n",
        "\n",
        "\n",
        "(_, fx, X) = audioCompression(x, fs, 1) \n",
        "(_, fy, Y) = audioCompression(y, fsy, 1) \n",
        "\n",
        "\n",
        "xlim = [120, 280]\n",
        "name = 'figure'\n",
        "\n",
        "plotFig(X, fx, Y, fy, xlim, name)\n",
        "\n"
      ]
    },
    {
      "cell_type": "markdown",
      "metadata": {
        "id": "Ss9lsmJsJ2OV"
      },
      "source": [
        "Vous devriez voir 8 pics dans chacun des spectres, chaque pic correspondant à la fréquence fondamentale d'une note musicale jouée. Parmi ces pics, 7 doivent être presque identiques, mais un pic doit avoir une fréquence différente. Cela correspond à la note que nous avons corrigée. Entendez-vous la différence entre les sons `solo.wav` et `solo_corrige.wav` ? ;-)\n",
        "\n"
      ]
    },
    {
      "cell_type": "code",
      "execution_count": 52,
      "metadata": {},
      "outputs": [
        {
          "name": "stdout",
          "output_type": "stream",
          "text": [
            "-0.16084552957022877\n",
            "1.0608899408223628e-11\n"
          ]
        }
      ],
      "source": [
        "print(fx[-1+len(fx)//2])\n",
        "print(np.mean(fx))"
      ]
    }
  ],
  "metadata": {
    "colab": {
      "collapsed_sections": [],
      "name": "LEPL1106_22_Devoir_07.ipynb",
      "provenance": []
    },
    "kernelspec": {
      "display_name": "Python 3",
      "language": "python",
      "name": "python3"
    },
    "language_info": {
      "codemirror_mode": {
        "name": "ipython",
        "version": 3
      },
      "file_extension": ".py",
      "mimetype": "text/x-python",
      "name": "python",
      "nbconvert_exporter": "python",
      "pygments_lexer": "ipython3",
      "version": "3.8.5"
    }
  },
  "nbformat": 4,
  "nbformat_minor": 0
}
